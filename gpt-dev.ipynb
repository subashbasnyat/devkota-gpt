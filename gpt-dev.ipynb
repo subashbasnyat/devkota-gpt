{
 "cells": [
  {
   "cell_type": "code",
   "execution_count": 1,
   "id": "e48d2567",
   "metadata": {},
   "outputs": [],
   "source": [
    "with open(\"lspd.txt\", 'r', encoding='utf-8') as f:\n",
    "    text = f.read()"
   ]
  },
  {
   "cell_type": "code",
   "execution_count": 5,
   "id": "b02f0893",
   "metadata": {},
   "outputs": [
    {
     "name": "stdout",
     "output_type": "stream",
     "text": [
      "Length 119161\n"
     ]
    }
   ],
   "source": [
    "print(\"Length\", len(text))"
   ]
  },
  {
   "cell_type": "code",
   "execution_count": 6,
   "id": "fc205fb8",
   "metadata": {
    "scrolled": true,
    "tags": []
   },
   "outputs": [
    {
     "name": "stdout",
     "output_type": "stream",
     "text": [
      "\n",
      " !,.:;?ँंःअआइईउऊऋएऐओऔकखगघङचछजझञटठडढणतथदधनपफबभमयरलवशषसहािीुूृेैोौ्ॐ।‍–‘’“”\n",
      "Vocab Size 74\n"
     ]
    }
   ],
   "source": [
    "chars = sorted(list(set(text)))\n",
    "vocab_size = len(chars)\n",
    "print(\"\".join(chars))\n",
    "print(\"Vocab Size\", vocab_size)"
   ]
  },
  {
   "cell_type": "markdown",
   "id": "b80da3d9",
   "metadata": {},
   "source": [
    "### Character Level Tokenizer"
   ]
  },
  {
   "cell_type": "code",
   "execution_count": 7,
   "id": "f4676d41",
   "metadata": {},
   "outputs": [],
   "source": [
    "stoi = {ch:i for i,ch in enumerate(chars)}\n",
    "itos = {i:ch for i,ch in enumerate(chars)}\n",
    "encode = lambda s: [stoi[c] for c in s] #encoder: takes string, output list of integers\n",
    "decode = lambda l: \"\".join([itos[i] for i in l]) #decoder: takes the list of integers, output a string"
   ]
  },
  {
   "cell_type": "code",
   "execution_count": 8,
   "id": "0589ae43",
   "metadata": {
    "tags": []
   },
   "outputs": [
    {
     "name": "stdout",
     "output_type": "stream",
     "text": [
      "[29, 48, 58, 48, 1, 53, 55, 38, 57, 1, 46, 1, 42, 55, 24, 49]\n",
      "जरुर साथी म पागल\n"
     ]
    }
   ],
   "source": [
    "print(encode(\"जरुर साथी म पागल\"))\n",
    "print(decode(encode(\"जरुर साथी म पागल\")))"
   ]
  },
  {
   "cell_type": "markdown",
   "id": "ded158a9",
   "metadata": {},
   "source": [
    "Sentence Piece -> Subword\n",
    "OpenAI -> tiktoken (GPT uses)"
   ]
  },
  {
   "cell_type": "code",
   "execution_count": 40,
   "id": "987d99ac",
   "metadata": {},
   "outputs": [
    {
     "name": "stdout",
     "output_type": "stream",
     "text": [
      "Requirement already satisfied: tiktoken in /home/mrmojorisin/anaconda3/lib/python3.9/site-packages (0.5.2)\n",
      "Requirement already satisfied: requests>=2.26.0 in /home/mrmojorisin/anaconda3/lib/python3.9/site-packages (from tiktoken) (2.28.2)\n",
      "Requirement already satisfied: regex>=2022.1.18 in /home/mrmojorisin/anaconda3/lib/python3.9/site-packages (from tiktoken) (2022.3.15)\n",
      "Requirement already satisfied: idna<4,>=2.5 in /home/mrmojorisin/anaconda3/lib/python3.9/site-packages (from requests>=2.26.0->tiktoken) (3.3)\n",
      "Requirement already satisfied: charset-normalizer<4,>=2 in /home/mrmojorisin/anaconda3/lib/python3.9/site-packages (from requests>=2.26.0->tiktoken) (2.0.4)\n",
      "Requirement already satisfied: certifi>=2017.4.17 in /home/mrmojorisin/anaconda3/lib/python3.9/site-packages (from requests>=2.26.0->tiktoken) (2021.10.8)\n",
      "Requirement already satisfied: urllib3<1.27,>=1.21.1 in /home/mrmojorisin/anaconda3/lib/python3.9/site-packages (from requests>=2.26.0->tiktoken) (1.26.9)\n"
     ]
    }
   ],
   "source": [
    "!pip install tiktoken"
   ]
  },
  {
   "cell_type": "code",
   "execution_count": 114,
   "id": "9dbe6f6a",
   "metadata": {},
   "outputs": [],
   "source": [
    "import tiktoken"
   ]
  },
  {
   "cell_type": "code",
   "execution_count": 115,
   "id": "ef86ca2b",
   "metadata": {},
   "outputs": [
    {
     "data": {
      "text/plain": [
       "50257"
      ]
     },
     "execution_count": 115,
     "metadata": {},
     "output_type": "execute_result"
    }
   ],
   "source": [
    "enc = tiktoken.get_encoding(\"gpt2\")\n",
    "enc.n_vocab"
   ]
  },
  {
   "cell_type": "code",
   "execution_count": 116,
   "id": "e354e4e9-90f8-4025-af67-4d9e66297e45",
   "metadata": {},
   "outputs": [
    {
     "data": {
      "text/plain": [
       "[19585]"
      ]
     },
     "execution_count": 116,
     "metadata": {},
     "output_type": "execute_result"
    }
   ],
   "source": [
    "enc.encode(\"Joe\")"
   ]
  },
  {
   "cell_type": "code",
   "execution_count": 117,
   "id": "9c03f736",
   "metadata": {},
   "outputs": [
    {
     "data": {
      "text/plain": [
       "[11976, 103, 48077, 11976, 245, 11976, 110]"
      ]
     },
     "execution_count": 117,
     "metadata": {},
     "output_type": "execute_result"
    }
   ],
   "source": [
    "enc.encode(\"पागल\")"
   ]
  },
  {
   "cell_type": "code",
   "execution_count": 118,
   "id": "5b93c940",
   "metadata": {},
   "outputs": [
    {
     "data": {
      "text/plain": [
       "'पागल'"
      ]
     },
     "execution_count": 118,
     "metadata": {},
     "output_type": "execute_result"
    }
   ],
   "source": [
    "enc.decode([11976, 103, 48077, 11976, 245, 11976, 110])"
   ]
  },
  {
   "cell_type": "code",
   "execution_count": 9,
   "id": "9289ed80",
   "metadata": {},
   "outputs": [
    {
     "name": "stdout",
     "output_type": "stream",
     "text": [
      "torch.Size([119161]) torch.int64\n",
      "tensor([41, 28, 55, 34, 57,  1, 29, 55, 41, 63, 53, 65,  1, 54, 61,  1, 46, 61,\n",
      "        48, 55,  1, 42, 65, 48, 55, 36,  1,  2,  1, 11, 22, 61, 49, 57,  1, 46,\n",
      "        49, 55, 14,  3,  0, 46, 41, 22, 63,  1, 50, 41, 46, 55,  1, 41, 41, 56,\n",
      "        45, 65, 41, 61,  1, 24, 48, 57,  1, 50, 56, 48, 54,  1, 29, 49, 55, 14,\n",
      "         1,  2,  0, 41, 41, 56, 45, 65, 41, 61,  1, 24, 48, 57,  1, 50, 56, 48,\n",
      "        54,  1, 29, 49, 55, 14,  3,  0, 49, 63])\n"
     ]
    }
   ],
   "source": [
    "# Encode entire text dataset and store it in torch.Tensor\n",
    "import torch\n",
    "data = torch.tensor(encode(text), dtype=torch.long)\n",
    "print(data.shape, data.dtype)\n",
    "print(data[:100])"
   ]
  },
  {
   "cell_type": "code",
   "execution_count": 12,
   "id": "c5ac675d",
   "metadata": {},
   "outputs": [
    {
     "data": {
      "text/plain": [
       "107244"
      ]
     },
     "execution_count": 12,
     "metadata": {},
     "output_type": "execute_result"
    }
   ],
   "source": [
    "# Split data into train and validation sets\n",
    "n = int(0.9*len(data))\n",
    "train_data = data[:n]\n",
    "val_data = data[n:]\n",
    "len(train_data)"
   ]
  },
  {
   "cell_type": "code",
   "execution_count": 13,
   "id": "50e740d6",
   "metadata": {},
   "outputs": [
    {
     "data": {
      "text/plain": [
       "tensor([41, 28, 55, 34, 57,  1, 29, 55, 41])"
      ]
     },
     "execution_count": 13,
     "metadata": {},
     "output_type": "execute_result"
    }
   ],
   "source": [
    "# We'll not feed entire text into the transformers at once. Computationally expensive.\n",
    "# Work with chunks of data\n",
    "# with Max Length, block_size\n",
    "block_size = 8\n",
    "train_data[:block_size+1]"
   ]
  },
  {
   "cell_type": "code",
   "execution_count": 14,
   "id": "f064e27f",
   "metadata": {},
   "outputs": [
    {
     "name": "stdout",
     "output_type": "stream",
     "text": [
      "When input is tensor([41]), target is: 28\n",
      "When input is tensor([41, 28]), target is: 55\n",
      "When input is tensor([41, 28, 55]), target is: 34\n",
      "When input is tensor([41, 28, 55, 34]), target is: 57\n",
      "When input is tensor([41, 28, 55, 34, 57]), target is: 1\n",
      "When input is tensor([41, 28, 55, 34, 57,  1]), target is: 29\n",
      "When input is tensor([41, 28, 55, 34, 57,  1, 29]), target is: 55\n",
      "When input is tensor([41, 28, 55, 34, 57,  1, 29, 55]), target is: 41\n"
     ]
    }
   ],
   "source": [
    "x = train_data[:block_size]\n",
    "y = train_data[1:block_size+1]\n",
    "for t in range(block_size):\n",
    "    context = x[:t+1]\n",
    "    target = y[t]\n",
    "    print(f\"When input is {context}, target is: {target}\")"
   ]
  },
  {
   "cell_type": "code",
   "execution_count": 15,
   "id": "e1bbac07",
   "metadata": {},
   "outputs": [
    {
     "name": "stdout",
     "output_type": "stream",
     "text": [
      "Inputs:\n",
      "torch.Size([4, 8])\n",
      "tensor([[ 1,  2,  1, 41, 28, 58, 41, 59],\n",
      "        [65, 24, 53, 65, 50, 55, 48, 65],\n",
      "        [53, 65, 37, 62,  1, 28,  1, 46],\n",
      "        [ 2,  0, 18, 22,  1, 37, 48, 26]])\n",
      "Targets:\n",
      "torch.Size([4, 8])\n",
      "tensor([[ 2,  1, 41, 28, 58, 41, 59,  1],\n",
      "        [24, 53, 65, 50, 55, 48, 65, 38],\n",
      "        [65, 37, 62,  1, 28,  1, 46, 61],\n",
      "        [ 0, 18, 22,  1, 37, 48, 26, 65]])\n",
      "------\n",
      "When input is [1], target is: 2\n",
      "When input is [1, 2], target is: 1\n",
      "When input is [1, 2, 1], target is: 41\n",
      "When input is [1, 2, 1, 41], target is: 28\n",
      "When input is [1, 2, 1, 41, 28], target is: 58\n",
      "When input is [1, 2, 1, 41, 28, 58], target is: 41\n",
      "When input is [1, 2, 1, 41, 28, 58, 41], target is: 59\n",
      "When input is [1, 2, 1, 41, 28, 58, 41, 59], target is: 1\n",
      "When input is [65], target is: 24\n",
      "When input is [65, 24], target is: 53\n",
      "When input is [65, 24, 53], target is: 65\n",
      "When input is [65, 24, 53, 65], target is: 50\n",
      "When input is [65, 24, 53, 65, 50], target is: 55\n",
      "When input is [65, 24, 53, 65, 50, 55], target is: 48\n",
      "When input is [65, 24, 53, 65, 50, 55, 48], target is: 65\n",
      "When input is [65, 24, 53, 65, 50, 55, 48, 65], target is: 38\n",
      "When input is [53], target is: 65\n",
      "When input is [53, 65], target is: 37\n",
      "When input is [53, 65, 37], target is: 62\n",
      "When input is [53, 65, 37, 62], target is: 1\n",
      "When input is [53, 65, 37, 62, 1], target is: 28\n",
      "When input is [53, 65, 37, 62, 1, 28], target is: 1\n",
      "When input is [53, 65, 37, 62, 1, 28, 1], target is: 46\n",
      "When input is [53, 65, 37, 62, 1, 28, 1, 46], target is: 61\n",
      "When input is [2], target is: 0\n",
      "When input is [2, 0], target is: 18\n",
      "When input is [2, 0, 18], target is: 22\n",
      "When input is [2, 0, 18, 22], target is: 1\n",
      "When input is [2, 0, 18, 22, 1], target is: 37\n",
      "When input is [2, 0, 18, 22, 1, 37], target is: 48\n",
      "When input is [2, 0, 18, 22, 1, 37, 48], target is: 26\n",
      "When input is [2, 0, 18, 22, 1, 37, 48, 26], target is: 65\n"
     ]
    }
   ],
   "source": [
    "# Batch Dimension\n",
    "# Parallel Processing, Multiple chunks all at the same time.\n",
    "torch.manual_seed(420)\n",
    "batch_size = 4\n",
    "block_size = 8\n",
    "\n",
    "def get_batch(split):\n",
    "    data = train_data if split == 'train' else val_data\n",
    "    ix = torch.randint(len(data) - block_size, (batch_size,))\n",
    "#     print(f\"len(data): {len(data)}, block_size: {block_size}, batch_size: {batch_size}, len(data) - block_size: {len(data) - block_size}\")\n",
    "#     print(f\"IX: {ix}\")\n",
    "    x = torch.stack([data[i:i+block_size] for i in ix])\n",
    "    y = torch.stack([data[i+1:i+block_size+1] for i in ix])\n",
    "    return x,y\n",
    "\n",
    "xb,yb = get_batch('train')\n",
    "print(\"Inputs:\")\n",
    "print(xb.shape)\n",
    "print(xb)\n",
    "print(\"Targets:\")\n",
    "print(yb.shape)\n",
    "print(yb)\n",
    "print(\"------\")\n",
    "\n",
    "\n",
    "for b in range(batch_size):\n",
    "    for t in range(block_size):\n",
    "        context = xb[b, :t+1]\n",
    "        target = yb[b,t]\n",
    "        print(f\"When input is {context.tolist()}, target is: {target}\")"
   ]
  },
  {
   "cell_type": "code",
   "execution_count": 16,
   "id": "aa03fdf2",
   "metadata": {},
   "outputs": [
    {
     "data": {
      "text/plain": [
       "tensor([ 5547, 44831, 79558, 81261])"
      ]
     },
     "execution_count": 16,
     "metadata": {},
     "output_type": "execute_result"
    }
   ],
   "source": [
    "torch.randint(107236,(4,))"
   ]
  },
  {
   "cell_type": "code",
   "execution_count": 17,
   "id": "b09333ed",
   "metadata": {},
   "outputs": [],
   "source": [
    "# We'll feed xb into the transformers, transformers will process the input and look upto yb for correct answers"
   ]
  },
  {
   "cell_type": "code",
   "execution_count": 19,
   "id": "913dd9a3",
   "metadata": {},
   "outputs": [
    {
     "name": "stdout",
     "output_type": "stream",
     "text": [
      "self.token_embedding_table Embedding(74, 74)\n",
      "torch.Size([32, 74])\n",
      "tensor(4.8599, grad_fn=<NllLossBackward0>)\n",
      "\n",
      "लञअ’ढआखगप डऔ\n",
      "ःशवऊै‘औई‘ल‍ठगःबपेः‍शई:ँिथह‘ःूूृयइय?.अओलढठबूक“ऊककखत?झधिमकथधच सटीरओपॐढँदऐ,‘?शोदअसण;ढ्घएअष\n"
     ]
    }
   ],
   "source": [
    "import torch\n",
    "import torch.nn as nn\n",
    "from torch.nn import functional as F\n",
    "torch.manual_seed(420)\n",
    "\n",
    "class BigramLanguageModel(nn.Module):\n",
    "    '''\n",
    "        It is simply a lookup table of logits for the next character given a previous character\n",
    "    '''\n",
    "    def __init__(self, vocab_size):\n",
    "        super().__init__()\n",
    "        # Each token directly reads off the logits for the next token from the lookup table\n",
    "        self.token_embedding_table = nn.Embedding(vocab_size, vocab_size)\n",
    "        print(\"self.token_embedding_table\", self.token_embedding_table)\n",
    "        # print(\"Embedding Weights\", self.token_embedding_table.weight[49])\n",
    "        # print(\"Embedding Weights\", self.token_embedding_table.weight[31])\n",
    "        \n",
    "    def forward(self, idx, targets=None):\n",
    "        # idx and targets are both (B,T) tensors of integers\n",
    "        logits = self.token_embedding_table(idx) # B, T, C\n",
    "        if targets is None:\n",
    "            loss = None\n",
    "        else:\n",
    "            # Cross Entropy wants B, T, C. So,\n",
    "            B, T, C = logits.shape\n",
    "            logits = logits.view(B*T, C)\n",
    "            targets = targets.view(B*T)\n",
    "            loss = F.cross_entropy(logits, targets)\n",
    "        return logits, loss\n",
    "    \n",
    "    def generate(self, idx, max_new_tokens):\n",
    "        # idx is (B,T) array of indices in the current context\n",
    "        for _ in range(max_new_tokens):\n",
    "            # get the prediction\n",
    "            logits, loss = self(idx)\n",
    "            # print(\"Logits\", logits)\n",
    "            # focus only on the last time step\n",
    "            logits = logits[:, -1, :] # Becomes (B,C)\n",
    "            # print(\"Logits\", logits)\n",
    "            # apply softmax to get the probabilities\n",
    "            probs = F.softmax(logits, dim=-1)\n",
    "            # print(\"Probs\", probs)\n",
    "            # sample from the distribution\n",
    "            idx_next = torch.multinomial(probs, num_samples=1) # (B, 1)\n",
    "            # print(\"ID Next\", idx_next)\n",
    "            idx = torch.cat((idx, idx_next), dim = 1) # (B, T+1)\n",
    "        return idx\n",
    "    \n",
    "m = BigramLanguageModel(vocab_size)\n",
    "logits, loss = m(xb, yb)\n",
    "print(logits.shape)\n",
    "print(loss)\n",
    "idx = torch.zeros((1,1), dtype=torch.long)\n",
    "print(decode(m.generate(idx, max_new_tokens=100)[0].tolist()))"
   ]
  },
  {
   "cell_type": "code",
   "execution_count": 20,
   "id": "d187e673-0684-4e35-85c5-97c9f829f8b6",
   "metadata": {},
   "outputs": [
    {
     "data": {
      "text/plain": [
       "Parameter containing:\n",
       "tensor([[ 1.7515, -0.9941, -0.6508,  ..., -0.5430, -0.0459,  0.2193],\n",
       "        [ 0.4391, -0.9723,  1.0642,  ...,  0.4268, -0.2010,  0.7361],\n",
       "        [-1.5503, -0.4205,  1.4080,  ...,  1.3648, -0.8378, -0.0643],\n",
       "        ...,\n",
       "        [ 0.8211, -1.3542,  0.7526,  ..., -0.7964,  0.8806,  0.4518],\n",
       "        [ 0.7508,  0.3263, -1.6027,  ..., -0.1268,  0.4731, -0.9279],\n",
       "        [-0.9792, -1.2182, -0.3756,  ...,  0.8577,  1.2365,  0.6499]],\n",
       "       requires_grad=True)"
      ]
     },
     "execution_count": 20,
     "metadata": {},
     "output_type": "execute_result"
    }
   ],
   "source": [
    "import torch.nn as nn\n",
    "x = nn.Embedding(vocab_size, vocab_size)\n",
    "x.weight"
   ]
  },
  {
   "cell_type": "code",
   "execution_count": 21,
   "id": "b570c5cd",
   "metadata": {},
   "outputs": [
    {
     "name": "stdout",
     "output_type": "stream",
     "text": [
      "Parameter containing:\n",
      "tensor([[-0.0472, -0.4430, -0.2003,  2.4293],\n",
      "        [-0.7042, -1.3085,  1.0577, -0.7016],\n",
      "        [ 1.0019, -0.4185, -0.8609, -1.4439],\n",
      "        [-0.3811,  0.8902,  1.1004, -0.8110]], requires_grad=True)\n"
     ]
    },
    {
     "data": {
      "text/plain": [
       "tensor([[[ 1.0019, -0.4185, -0.8609, -1.4439]]], grad_fn=<EmbeddingBackward0>)"
      ]
     },
     "execution_count": 21,
     "metadata": {},
     "output_type": "execute_result"
    }
   ],
   "source": [
    "emb = nn.Embedding(4,4)\n",
    "print(emb.weight)\n",
    "input = torch.LongTensor([[2]])\n",
    "emb(input)"
   ]
  },
  {
   "cell_type": "code",
   "execution_count": 22,
   "id": "48a05204",
   "metadata": {},
   "outputs": [],
   "source": [
    "optimizer = torch.optim.AdamW(m.parameters(), lr=1e-3)"
   ]
  },
  {
   "cell_type": "code",
   "execution_count": 23,
   "id": "8f7b982d",
   "metadata": {},
   "outputs": [
    {
     "name": "stdout",
     "output_type": "stream",
     "text": [
      "2.5646562576293945\n"
     ]
    }
   ],
   "source": [
    "batch_size = 32\n",
    "for steps in range(10000):\n",
    "    xb, yb = get_batch('train')\n",
    "    \n",
    "    logits, loss = m(xb, yb)\n",
    "    optimizer.zero_grad(set_to_none=True)\n",
    "    loss.backward()\n",
    "    optimizer.step()\n",
    "    \n",
    "print(loss.item())"
   ]
  },
  {
   "cell_type": "code",
   "execution_count": 24,
   "id": "fcfb9b86",
   "metadata": {},
   "outputs": [
    {
     "name": "stdout",
     "output_type": "stream",
     "text": [
      "\n",
      "ने वाई तो,\n",
      "प्क\n",
      " ला अम दिन्झन घरदछलारम इर्न गुको, ले भुकदछि भक !\n",
      "फै  दुननान हायुनवशीबायो यङ्न्र गर्वी उस्ताहो झै मुला,\n",
      "हिन्याँ उत्बा नी बसुभो ।\n",
      "व्तिएको,\n",
      "बनत् गहातिएकेरैं, लेँदनिन जहरी औँदाट?\n",
      "चूत्विमर्छ,\n",
      "कल गुनमदैओरुज्नकारी टुध रको,\n",
      "मासङ्चिर !\n",
      "जगडाल्दिनुसल्त्छनी बा चान्दिमुकलौं योसाहाबहा\n",
      "आँ.ऊ प्काइ शब\n"
     ]
    }
   ],
   "source": [
    "print(decode(m.generate(idx, max_new_tokens=300)[0].tolist()))"
   ]
  },
  {
   "cell_type": "markdown",
   "id": "74d80b9f",
   "metadata": {},
   "source": [
    "We're only looking at the last character to predict the next.\n",
    "Now, these tokens have to start talking to each other and figuring out what is in the context.\n",
    "This is how we're going to kick-off Transformers."
   ]
  },
  {
   "cell_type": "markdown",
   "id": "55dcf40d",
   "metadata": {},
   "source": [
    "The mathematical trick in self-attention"
   ]
  },
  {
   "cell_type": "code",
   "execution_count": 134,
   "id": "6d6151bb",
   "metadata": {},
   "outputs": [
    {
     "data": {
      "text/plain": [
       "torch.Size([4, 8, 2])"
      ]
     },
     "execution_count": 134,
     "metadata": {},
     "output_type": "execute_result"
    }
   ],
   "source": [
    "torch.manual_seed(420)\n",
    "B,T,C = 4,8,2\n",
    "x = torch.randn(B,T,C)\n",
    "x.shape"
   ]
  },
  {
   "cell_type": "markdown",
   "id": "dd8f381e",
   "metadata": {},
   "source": [
    "We have 8 tokens in a batch. They're currently not talking to each other.\n",
    "Token at 5th location should not communicate with the token at 6th, 7th, 8th location.\n",
    "Token at 5th location should only communicate with the token at 1st, 2nd, 3rd, 4th location.\n",
    "Information flows from previous to next context.\n",
    "What is the easiest way for tokens to communicate?\n",
    "Average of all preceding elements. Weak & Lossy. That's ok for now."
   ]
  },
  {
   "cell_type": "code",
   "execution_count": 135,
   "id": "8ed4d609",
   "metadata": {},
   "outputs": [
    {
     "data": {
      "text/plain": [
       "tensor([[-0.0070,  0.5044],\n",
       "        [ 0.6704, -0.3829],\n",
       "        [ 0.0302,  0.3826],\n",
       "        [-0.5131,  0.7104],\n",
       "        [ 1.8092,  0.4352],\n",
       "        [ 2.6453,  0.2654],\n",
       "        [ 0.9235, -0.4376],\n",
       "        [ 2.0182,  1.3498]])"
      ]
     },
     "execution_count": 135,
     "metadata": {},
     "output_type": "execute_result"
    }
   ],
   "source": [
    "# xbag_of_words = averaging\n",
    "xbow = torch.zeros((B,T,C))\n",
    "for b in range(B):\n",
    "    for t in range(T):\n",
    "        # For this batch, everything upto the tth token\n",
    "        xprev = x[b, :t+1] #(t,C)\n",
    "        # Averaging out the time\n",
    "        xbow[b,t] = torch.mean(xprev, 0)\n",
    "x[0]"
   ]
  },
  {
   "cell_type": "code",
   "execution_count": 61,
   "id": "1714b1ff",
   "metadata": {},
   "outputs": [
    {
     "data": {
      "text/plain": [
       "tensor([[-0.0070,  0.5044],\n",
       "        [ 0.3317,  0.0608],\n",
       "        [ 0.2312,  0.1681],\n",
       "        [ 0.0451,  0.3037],\n",
       "        [ 0.3979,  0.3300],\n",
       "        [ 0.7725,  0.3192],\n",
       "        [ 0.7941,  0.2111],\n",
       "        [ 0.9471,  0.3534]])"
      ]
     },
     "execution_count": 61,
     "metadata": {},
     "output_type": "execute_result"
    }
   ],
   "source": [
    "xbow[0]"
   ]
  },
  {
   "cell_type": "markdown",
   "id": "f41286e8",
   "metadata": {},
   "source": [
    "This is very inefficient. The trick is to use Matrix Multiplication"
   ]
  },
  {
   "cell_type": "code",
   "execution_count": 136,
   "id": "b83af53f",
   "metadata": {},
   "outputs": [
    {
     "name": "stdout",
     "output_type": "stream",
     "text": [
      "a =\n",
      "tensor([[1., 1., 1.],\n",
      "        [1., 1., 1.],\n",
      "        [1., 1., 1.]])\n",
      "b =\n",
      "tensor([[1., 6.],\n",
      "        [2., 7.],\n",
      "        [5., 5.]])\n",
      "c =\n",
      "tensor([[ 8., 18.],\n",
      "        [ 8., 18.],\n",
      "        [ 8., 18.]])\n"
     ]
    }
   ],
   "source": [
    "torch.manual_seed(420)\n",
    "a = torch.ones(3,3)\n",
    "b = torch.randint(0,10,(3,2)).float()\n",
    "c = a @ b\n",
    "print('a =')\n",
    "print(a)\n",
    "print('b =')\n",
    "print(b)\n",
    "print('c =')\n",
    "print(c)"
   ]
  },
  {
   "cell_type": "code",
   "execution_count": 137,
   "id": "ce085d8c",
   "metadata": {},
   "outputs": [
    {
     "data": {
      "text/plain": [
       "tensor([[1., 0., 0.],\n",
       "        [1., 1., 0.],\n",
       "        [1., 1., 1.]])"
      ]
     },
     "execution_count": 137,
     "metadata": {},
     "output_type": "execute_result"
    }
   ],
   "source": [
    "torch.tril(torch.ones(3,3))"
   ]
  },
  {
   "cell_type": "code",
   "execution_count": 138,
   "id": "a8aecd0f",
   "metadata": {},
   "outputs": [
    {
     "name": "stdout",
     "output_type": "stream",
     "text": [
      "a =\n",
      "tensor([[1., 0., 0.],\n",
      "        [1., 1., 0.],\n",
      "        [1., 1., 1.]])\n",
      "b =\n",
      "tensor([[1., 6.],\n",
      "        [2., 7.],\n",
      "        [5., 5.]])\n",
      "c =\n",
      "tensor([[ 1.,  6.],\n",
      "        [ 3., 13.],\n",
      "        [ 8., 18.]])\n"
     ]
    }
   ],
   "source": [
    "torch.manual_seed(420)\n",
    "a = torch.tril(torch.ones(3,3))\n",
    "b = torch.randint(0,10,(3,2)).float()\n",
    "c = a @ b\n",
    "print('a =')\n",
    "print(a)\n",
    "print('b =')\n",
    "print(b)\n",
    "print('c =')\n",
    "print(c)"
   ]
  },
  {
   "cell_type": "code",
   "execution_count": 139,
   "id": "7e8a2b4d",
   "metadata": {},
   "outputs": [
    {
     "name": "stdout",
     "output_type": "stream",
     "text": [
      "a =\n",
      "tensor([[1.0000, 0.0000, 0.0000],\n",
      "        [0.5000, 0.5000, 0.0000],\n",
      "        [0.3333, 0.3333, 0.3333]])\n",
      "b =\n",
      "tensor([[1., 6.],\n",
      "        [2., 7.],\n",
      "        [5., 5.]])\n",
      "c =\n",
      "tensor([[1.0000, 6.0000],\n",
      "        [1.5000, 6.5000],\n",
      "        [2.6667, 6.0000]])\n"
     ]
    }
   ],
   "source": [
    "torch.manual_seed(420)\n",
    "a = torch.tril(torch.ones(3,3))\n",
    "a = a/torch.sum(a, 1, keepdim=True)\n",
    "b = torch.randint(0,10,(3,2)).float()\n",
    "c = a @ b\n",
    "print('a =')\n",
    "print(a)\n",
    "print('b =')\n",
    "print(b)\n",
    "print('c =')\n",
    "print(c)"
   ]
  },
  {
   "cell_type": "code",
   "execution_count": 140,
   "id": "0c18e937",
   "metadata": {},
   "outputs": [
    {
     "data": {
      "text/plain": [
       "tensor([[1.0000, 0.0000, 0.0000, 0.0000, 0.0000, 0.0000, 0.0000, 0.0000],\n",
       "        [0.5000, 0.5000, 0.0000, 0.0000, 0.0000, 0.0000, 0.0000, 0.0000],\n",
       "        [0.3333, 0.3333, 0.3333, 0.0000, 0.0000, 0.0000, 0.0000, 0.0000],\n",
       "        [0.2500, 0.2500, 0.2500, 0.2500, 0.0000, 0.0000, 0.0000, 0.0000],\n",
       "        [0.2000, 0.2000, 0.2000, 0.2000, 0.2000, 0.0000, 0.0000, 0.0000],\n",
       "        [0.1667, 0.1667, 0.1667, 0.1667, 0.1667, 0.1667, 0.0000, 0.0000],\n",
       "        [0.1429, 0.1429, 0.1429, 0.1429, 0.1429, 0.1429, 0.1429, 0.0000],\n",
       "        [0.1250, 0.1250, 0.1250, 0.1250, 0.1250, 0.1250, 0.1250, 0.1250]])"
      ]
     },
     "execution_count": 140,
     "metadata": {},
     "output_type": "execute_result"
    }
   ],
   "source": [
    "# Version 2\n",
    "wei = torch.tril(torch.ones(T,T))\n",
    "wei = wei/wei.sum(1, keepdim=True)\n",
    "wei"
   ]
  },
  {
   "cell_type": "code",
   "execution_count": 141,
   "id": "dd8174cb",
   "metadata": {},
   "outputs": [
    {
     "data": {
      "text/plain": [
       "True"
      ]
     },
     "execution_count": 141,
     "metadata": {},
     "output_type": "execute_result"
    }
   ],
   "source": [
    "xbow2 = wei @ x # (B, T,T) @ (B, T, C) --> (B, T, C)\n",
    "xbow2\n",
    "torch.allclose(xbow, xbow2)"
   ]
  },
  {
   "cell_type": "code",
   "execution_count": 68,
   "id": "6481b0d2",
   "metadata": {},
   "outputs": [
    {
     "name": "stdout",
     "output_type": "stream",
     "text": [
      "Wei:  tensor([[0., 0., 0., 0., 0., 0., 0., 0.],\n",
      "        [0., 0., 0., 0., 0., 0., 0., 0.],\n",
      "        [0., 0., 0., 0., 0., 0., 0., 0.],\n",
      "        [0., 0., 0., 0., 0., 0., 0., 0.],\n",
      "        [0., 0., 0., 0., 0., 0., 0., 0.],\n",
      "        [0., 0., 0., 0., 0., 0., 0., 0.],\n",
      "        [0., 0., 0., 0., 0., 0., 0., 0.],\n",
      "        [0., 0., 0., 0., 0., 0., 0., 0.]])\n",
      "Wei2:  tensor([[0., -inf, -inf, -inf, -inf, -inf, -inf, -inf],\n",
      "        [0., 0., -inf, -inf, -inf, -inf, -inf, -inf],\n",
      "        [0., 0., 0., -inf, -inf, -inf, -inf, -inf],\n",
      "        [0., 0., 0., 0., -inf, -inf, -inf, -inf],\n",
      "        [0., 0., 0., 0., 0., -inf, -inf, -inf],\n",
      "        [0., 0., 0., 0., 0., 0., -inf, -inf],\n",
      "        [0., 0., 0., 0., 0., 0., 0., -inf],\n",
      "        [0., 0., 0., 0., 0., 0., 0., 0.]])\n",
      "Wei3:  tensor([[1.0000, 0.0000, 0.0000, 0.0000, 0.0000, 0.0000, 0.0000, 0.0000],\n",
      "        [0.5000, 0.5000, 0.0000, 0.0000, 0.0000, 0.0000, 0.0000, 0.0000],\n",
      "        [0.3333, 0.3333, 0.3333, 0.0000, 0.0000, 0.0000, 0.0000, 0.0000],\n",
      "        [0.2500, 0.2500, 0.2500, 0.2500, 0.0000, 0.0000, 0.0000, 0.0000],\n",
      "        [0.2000, 0.2000, 0.2000, 0.2000, 0.2000, 0.0000, 0.0000, 0.0000],\n",
      "        [0.1667, 0.1667, 0.1667, 0.1667, 0.1667, 0.1667, 0.0000, 0.0000],\n",
      "        [0.1429, 0.1429, 0.1429, 0.1429, 0.1429, 0.1429, 0.1429, 0.0000],\n",
      "        [0.1250, 0.1250, 0.1250, 0.1250, 0.1250, 0.1250, 0.1250, 0.1250]])\n"
     ]
    },
    {
     "data": {
      "text/plain": [
       "True"
      ]
     },
     "execution_count": 68,
     "metadata": {},
     "output_type": "execute_result"
    }
   ],
   "source": [
    "# version 3: use Softmax\n",
    "tril = torch.tril(torch.ones(T, T))\n",
    "wei = torch.zeros((T,T))\n",
    "print(\"Wei: \", wei)\n",
    "wei = wei.masked_fill(tril==0, float('-inf'))\n",
    "print(\"Wei2: \", wei)\n",
    "wei = F.softmax(wei, dim=-1)\n",
    "print(\"Wei3: \", wei)\n",
    "xbow3 = wei @ x\n",
    "torch.allclose(xbow, xbow3)"
   ]
  },
  {
   "cell_type": "code",
   "execution_count": 69,
   "id": "c2975a5e",
   "metadata": {},
   "outputs": [
    {
     "name": "stdout",
     "output_type": "stream",
     "text": [
      "Wei:  tensor([[0., 0., 0., 0., 0., 0., 0., 0.],\n",
      "        [0., 0., 0., 0., 0., 0., 0., 0.],\n",
      "        [0., 0., 0., 0., 0., 0., 0., 0.],\n",
      "        [0., 0., 0., 0., 0., 0., 0., 0.],\n",
      "        [0., 0., 0., 0., 0., 0., 0., 0.],\n",
      "        [0., 0., 0., 0., 0., 0., 0., 0.],\n",
      "        [0., 0., 0., 0., 0., 0., 0., 0.],\n",
      "        [0., 0., 0., 0., 0., 0., 0., 0.]])\n",
      "Wei2:  tensor([[0., -inf, -inf, -inf, -inf, -inf, -inf, -inf],\n",
      "        [0., 0., -inf, -inf, -inf, -inf, -inf, -inf],\n",
      "        [0., 0., 0., -inf, -inf, -inf, -inf, -inf],\n",
      "        [0., 0., 0., 0., -inf, -inf, -inf, -inf],\n",
      "        [0., 0., 0., 0., 0., -inf, -inf, -inf],\n",
      "        [0., 0., 0., 0., 0., 0., -inf, -inf],\n",
      "        [0., 0., 0., 0., 0., 0., 0., -inf],\n",
      "        [0., 0., 0., 0., 0., 0., 0., 0.]])\n",
      "Wei3:  tensor([[1.0000, 0.0000, 0.0000, 0.0000, 0.0000, 0.0000, 0.0000, 0.0000],\n",
      "        [0.5000, 0.5000, 0.0000, 0.0000, 0.0000, 0.0000, 0.0000, 0.0000],\n",
      "        [0.3333, 0.3333, 0.3333, 0.0000, 0.0000, 0.0000, 0.0000, 0.0000],\n",
      "        [0.2500, 0.2500, 0.2500, 0.2500, 0.0000, 0.0000, 0.0000, 0.0000],\n",
      "        [0.2000, 0.2000, 0.2000, 0.2000, 0.2000, 0.0000, 0.0000, 0.0000],\n",
      "        [0.1667, 0.1667, 0.1667, 0.1667, 0.1667, 0.1667, 0.0000, 0.0000],\n",
      "        [0.1429, 0.1429, 0.1429, 0.1429, 0.1429, 0.1429, 0.1429, 0.0000],\n",
      "        [0.1250, 0.1250, 0.1250, 0.1250, 0.1250, 0.1250, 0.1250, 0.1250]])\n"
     ]
    },
    {
     "data": {
      "text/plain": [
       "torch.Size([4, 8, 32])"
      ]
     },
     "execution_count": 69,
     "metadata": {},
     "output_type": "execute_result"
    }
   ],
   "source": [
    "# version 4: self-attention basics\n",
    "torch.manual_seed(420)\n",
    "B,T,C = 4,8,32\n",
    "x = torch.randn(B,T,C)\n",
    "tril = torch.tril(torch.ones(T, T))\n",
    "\n",
    "# These tokens will start looking at each other for affinities\n",
    "wei = torch.zeros((T,T))\n",
    "print(\"Wei: \", wei)\n",
    "\n",
    "# Future can't communicate with the past\n",
    "wei = wei.masked_fill(tril==0, float('-inf'))\n",
    "print(\"Wei2: \", wei)\n",
    "wei = F.softmax(wei, dim=-1)\n",
    "print(\"Wei3: \", wei)\n",
    "out = wei @ x\n",
    "\n",
    "out.shape"
   ]
  },
  {
   "cell_type": "markdown",
   "id": "fdf4c757",
   "metadata": {},
   "source": [
    "We don't want\n",
    "`wei = torch.zeros((T,T))`\n",
    "to be all uniform. \n",
    "Different tokens will find more other tokens more or less interesting.\n",
    "If I'm a vowel, maybe I'm looking for consonant in the past.\n",
    "Maybe I want to know what those consonants are. I want that information to flow to me.\n",
    "I want to gather information in the past. But, I want to do that in data-dependent way.\n",
    "\n",
    "This is the problem, self-attention solves\n",
    "\n",
    "Every single node or token at each position, emit two vectors (query, key)\n",
    "\n",
    "query -> What am I looking for\n",
    "\n",
    "key -> what do I contain\n",
    "\n",
    "Dot product between keys and queries\n",
    "\n",
    "My query dot products with all the keys of all the tokens. And the dot product becomes `wei`.\n",
    "\n",
    "If key and query align, they'll yield high amount."
   ]
  },
  {
   "cell_type": "code",
   "execution_count": 143,
   "id": "5f1bb822",
   "metadata": {},
   "outputs": [
    {
     "name": "stdout",
     "output_type": "stream",
     "text": [
      "wei tensor([[ 2.2728,    -inf,    -inf,    -inf,    -inf,    -inf,    -inf,    -inf],\n",
      "        [ 0.5068, -0.5077,    -inf,    -inf,    -inf,    -inf,    -inf,    -inf],\n",
      "        [ 0.4327, -0.2557, -0.4741,    -inf,    -inf,    -inf,    -inf,    -inf],\n",
      "        [ 1.3287, -2.1195, -2.6443, -0.4957,    -inf,    -inf,    -inf,    -inf],\n",
      "        [ 0.4125, -1.2480, -3.1376, -0.5089, -2.1272,    -inf,    -inf,    -inf],\n",
      "        [ 0.0485,  1.0301,  1.1512,  1.4882, -0.9631,  0.1086,    -inf,    -inf],\n",
      "        [ 1.1692,  1.6438,  1.0493,  0.5698,  0.8746,  1.9510,  0.6115,    -inf],\n",
      "        [-1.4170,  0.7859, -2.6072,  1.0348,  0.4087,  0.3289, -1.6117,  2.7514]],\n",
      "       grad_fn=<SelectBackward0>)\n"
     ]
    },
    {
     "data": {
      "text/plain": [
       "torch.Size([4, 8, 16])"
      ]
     },
     "execution_count": 143,
     "metadata": {},
     "output_type": "execute_result"
    }
   ],
   "source": [
    "# self-attention\n",
    "torch.manual_seed(420)\n",
    "B,T,C = 4,8,32\n",
    "x = torch.randn(B,T,C)\n",
    "# let's see a single head of self-attention\n",
    "head_size = 16\n",
    "key = nn.Linear(C, head_size, bias=False)\n",
    "query = nn.Linear(C, head_size, bias=False)\n",
    "value = nn.Linear(C, head_size, bias=False)\n",
    "k = key(x) # (B, T, 16)\n",
    "q = query(x) # (B, T, 16)\n",
    "wei = q @ k.transpose(-2, -1) # (B, T, 16) @ (B, 16, T) -> (B, T, T)\n",
    "\n",
    "\n",
    "tril = torch.tril(torch.ones(T,T))\n",
    "wei = wei.masked_fill(tril == 0, float('-inf'))\n",
    "print(\"wei\", wei[0])\n",
    "wei = F.softmax(wei, dim=1)\n",
    "v = value(x)\n",
    "out = wei @ v\n",
    "out.shape"
   ]
  },
  {
   "cell_type": "code",
   "execution_count": 73,
   "id": "cab5b187",
   "metadata": {},
   "outputs": [
    {
     "data": {
      "text/plain": [
       "tensor([[0.4275, 0.0000, 0.0000, 0.0000, 0.0000, 0.0000, 0.0000, 0.0000],\n",
       "        [0.0731, 0.0504, 0.0000, 0.0000, 0.0000, 0.0000, 0.0000, 0.0000],\n",
       "        [0.0679, 0.0648, 0.0912, 0.0000, 0.0000, 0.0000, 0.0000, 0.0000],\n",
       "        [0.1663, 0.0100, 0.0104, 0.0596, 0.0000, 0.0000, 0.0000, 0.0000],\n",
       "        [0.0665, 0.0240, 0.0064, 0.0588, 0.0271, 0.0000, 0.0000, 0.0000],\n",
       "        [0.0462, 0.2343, 0.4631, 0.4333, 0.0867, 0.1168, 0.0000, 0.0000],\n",
       "        [0.1418, 0.4329, 0.4182, 0.1729, 0.5445, 0.7375, 0.9023, 0.0000],\n",
       "        [0.0107, 0.1836, 0.0108, 0.2753, 0.3417, 0.1456, 0.0977, 1.0000]],\n",
       "       grad_fn=<SelectBackward0>)"
      ]
     },
     "execution_count": 73,
     "metadata": {},
     "output_type": "execute_result"
    }
   ],
   "source": [
    "wei[0]"
   ]
  },
  {
   "cell_type": "code",
   "execution_count": 108,
   "id": "aa8f94fc-b731-4fc4-811d-534947933ca1",
   "metadata": {},
   "outputs": [
    {
     "data": {
      "text/plain": [
       "tensor([[ 6.0456e-01, -1.5550e-01,  2.0127e-01,  1.8277e-01, -5.1866e-03,\n",
       "         -1.5409e-01,  9.9967e-02, -5.7802e-02, -8.7813e-02, -1.8669e-01,\n",
       "         -2.4114e-02,  7.1841e-02, -2.6539e-01,  1.8791e-01,  1.1083e-01,\n",
       "          4.5298e-01],\n",
       "        [ 1.5799e-01, -1.0105e-03,  5.8079e-02,  4.8808e-02,  8.2898e-03,\n",
       "          2.0822e-02,  4.1613e-02,  3.6835e-04, -1.0373e-02, -9.4940e-02,\n",
       "          4.6224e-02, -1.4178e-02, -8.9967e-02,  6.3453e-02, -3.3155e-02,\n",
       "          1.0161e-01],\n",
       "        [ 2.4133e-01, -4.4916e-02, -8.9540e-03,  2.2071e-02, -6.1946e-03,\n",
       "          1.6568e-01,  7.7308e-02, -4.1726e-02, -9.1936e-03, -1.4985e-01,\n",
       "          1.1256e-01, -2.5931e-02, -9.1055e-02,  4.3798e-02, -1.1253e-01,\n",
       "          3.1679e-02],\n",
       "        [ 2.7880e-01, -2.2266e-02,  9.8550e-02,  1.0765e-01, -2.0372e-02,\n",
       "          3.1448e-03,  7.8094e-02, -5.8466e-02, -2.9769e-02, -8.1342e-02,\n",
       "         -1.4482e-02, -1.2349e-02, -1.0809e-01,  7.1086e-02,  3.2396e-02,\n",
       "          1.8712e-01],\n",
       "        [ 1.3364e-01,  4.0470e-02,  3.5189e-02,  7.9507e-02, -5.9504e-02,\n",
       "          3.4779e-02,  7.2957e-02, -5.8178e-02,  1.6933e-03, -5.6087e-02,\n",
       "         -6.1836e-03, -5.0698e-02, -5.1063e-02,  3.5096e-02, -9.8853e-03,\n",
       "          8.7125e-02],\n",
       "        [ 8.7209e-01,  2.2493e-01, -1.0387e-02,  2.2186e-01, -3.7513e-01,\n",
       "          1.1198e+00,  5.2642e-01, -5.0680e-01,  2.5831e-02, -4.5369e-01,\n",
       "          2.6649e-01, -4.1771e-01, -2.3733e-01,  3.4672e-02, -4.7998e-01,\n",
       "         -6.4279e-02],\n",
       "        [ 1.6038e+00,  7.2552e-01, -7.3058e-02,  7.3049e-02, -1.1461e+00,\n",
       "          1.0618e+00,  7.6772e-01, -6.4880e-01, -1.6804e-01, -1.0386e+00,\n",
       "         -1.4205e-01, -3.7107e-01, -7.6624e-01,  1.0606e+00, -4.5531e-01,\n",
       "          4.8295e-01],\n",
       "        [ 6.6665e-01,  3.6335e-01,  2.4658e-01,  1.3311e+00, -9.1840e-01,\n",
       "         -1.6962e-01, -5.4303e-01, -9.3691e-01, -9.1978e-02,  4.0910e-01,\n",
       "         -3.9194e-01, -5.3645e-01,  2.5986e-02, -4.6111e-01,  3.4348e-02,\n",
       "         -1.5156e-01]], grad_fn=<SelectBackward0>)"
      ]
     },
     "execution_count": 108,
     "metadata": {},
     "output_type": "execute_result"
    }
   ],
   "source": [
    "out[0]"
   ]
  },
  {
   "cell_type": "markdown",
   "id": "21aaa9e1",
   "metadata": {},
   "source": [
    "Notes:\n",
    "- Attention is a **communication mechanism**. Can be seen as nodes in a directed graph looking at each other and aggregating information with a weighted sum from all nodes that point to them, with data-dependent weights.\n",
    "- There is no notion of space. Attention simply acts over a set of vectors. This is why we need to positionally encode tokens.\n",
    "- Each example across batch dimension is of course processed completely independently and never \"talk\" to each other\n",
    "- In an \"encoder\" attention block just delete the single line that does masking with `tril`, allowing all tokens to communicate. This block here is called a \"decoder\" attention block because it has triangular masking, and is usually used in autoregressive settings, like language modeling.\n",
    "- \"self-attention\" just means that the keys and values are produced from the same source as queries. In \"cross-attention\", the queries still get produced from x, but the keys and values come from some other, external source (e.g. an encoder module)\n",
    "- \"Scaled\" attention additional divides `wei` by 1/sqrt(head_size). This makes it so when input Q,K are unit variance, wei will be unit variance too and Softmax will stay diffuse and not saturate too much. Illustration below"
   ]
  },
  {
   "cell_type": "code",
   "execution_count": 144,
   "id": "b2d94a9e-6d1e-42dc-b36a-e78ee620bc79",
   "metadata": {},
   "outputs": [
    {
     "name": "stdout",
     "output_type": "stream",
     "text": [
      "tensor(0.9264)\n",
      "tensor(1.0146)\n",
      "tensor(15.0543)\n"
     ]
    }
   ],
   "source": [
    "k = torch.randn(B,T,head_size)\n",
    "q = torch.randn(B,T,head_size)\n",
    "wei = q @ k.transpose(-2,-1)\n",
    "\n",
    "print(k.var())\n",
    "print(q.var())\n",
    "print(wei.var())"
   ]
  },
  {
   "cell_type": "code",
   "execution_count": 145,
   "id": "4c0d39da",
   "metadata": {},
   "outputs": [
    {
     "name": "stdout",
     "output_type": "stream",
     "text": [
      "tensor(1.0254)\n",
      "tensor(0.9833)\n",
      "tensor(1.0192)\n"
     ]
    }
   ],
   "source": [
    "k = torch.randn(B,T,head_size)\n",
    "q = torch.randn(B,T,head_size)\n",
    "wei = q @ k.transpose(-2,-1) * head_size**-0.5\n",
    "\n",
    "print(k.var())\n",
    "print(q.var())\n",
    "print(wei.var())"
   ]
  },
  {
   "cell_type": "code",
   "execution_count": 146,
   "id": "364a92c3",
   "metadata": {},
   "outputs": [
    {
     "data": {
      "text/plain": [
       "tensor([0.1925, 0.1426, 0.2351, 0.1426, 0.2872])"
      ]
     },
     "execution_count": 146,
     "metadata": {},
     "output_type": "execute_result"
    }
   ],
   "source": [
    "sm = torch.softmax(torch.tensor([0.1,-0.2,0.3,-0.2,0.5]), dim=-1)\n",
    "sm"
   ]
  },
  {
   "cell_type": "code",
   "execution_count": 147,
   "id": "b63d210e",
   "metadata": {},
   "outputs": [
    {
     "data": {
      "text/plain": [
       "tensor([1.5939e-03, 1.3117e-05, 3.9102e-02, 1.3117e-05, 9.5928e-01])"
      ]
     },
     "execution_count": 147,
     "metadata": {},
     "output_type": "execute_result"
    }
   ],
   "source": [
    "lg = torch.softmax(torch.tensor([0.1,-0.2,0.3,-0.2,0.5])*16, dim=-1) # gets too peaky, converges to one-hot\n",
    "lg"
   ]
  },
  {
   "cell_type": "code",
   "execution_count": 148,
   "id": "f0fee035",
   "metadata": {},
   "outputs": [
    {
     "data": {
      "image/png": "[encoded data removed]",
      "text/plain": [
       "<Figure size 1440x432 with 1 Axes>"
      ]
     },
     "metadata": {
      "needs_background": "light"
     },
     "output_type": "display_data"
    }
   ],
   "source": [
    "import matplotlib.pyplot as plt\n",
    "\n",
    "plt.figure(figsize=(20,6))\n",
    "plt.plot(sm, label=\"Small\")\n",
    "plt.plot(lg, label=\"Large\")\n",
    "plt.legend()\n",
    "plt.show()"
   ]
  },
  {
   "cell_type": "code",
   "execution_count": null,
   "id": "53ff0fb4-1459-4b29-8e21-e52fbf166ef0",
   "metadata": {},
   "outputs": [],
   "source": []
  }
 ],
 "metadata": {
  "kernelspec": {
   "display_name": "Python 3 (ipykernel)",
   "language": "python",
   "name": "python3"
  },
  "language_info": {
   "codemirror_mode": {
    "name": "ipython",
    "version": 3
   },
   "file_extension": ".py",
   "mimetype": "text/x-python",
   "name": "python",
   "nbconvert_exporter": "python",
   "pygments_lexer": "ipython3",
   "version": "3.9.12"
  }
 },
 "nbformat": 4,
 "nbformat_minor": 5
}
